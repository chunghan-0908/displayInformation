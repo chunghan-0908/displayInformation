{
 "cells": [
  {
   "cell_type": "markdown",
   "id": "a5613b2a",
   "metadata": {},
   "source": [
    "Viết chương trình có khả năng kiểm tra tính chất chẵn lẻ của một số nhập vào. In ra màn hình số nhập vào là số chẵn, số lẽ hay không phải là các trường hợp trên."
   ]
  },
  {
   "cell_type": "code",
   "execution_count": 7,
   "id": "a1c649c0",
   "metadata": {},
   "outputs": [
    {
     "name": "stdout",
     "output_type": "stream",
     "text": [
      "Nhập vào số bất kì: 1.2\n",
      "Không phải số tự nhiên\n"
     ]
    }
   ],
   "source": [
    "a = input(\"Nhập vào số bất kì: \")\n",
    "a = float(a)\n",
    "\n",
    "if a % 2 == 0:\n",
    "    print(f\"{a} là số chẳn\")\n",
    "elif a % 2 == 1:\n",
    "    print(f\"{a} là số lẻ\")\n",
    "else:\n",
    "    print(\"Không phải số tự nhiên\")"
   ]
  }
 ],
 "metadata": {
  "kernelspec": {
   "display_name": "Python 3 (ipykernel)",
   "language": "python",
   "name": "python3"
  },
  "language_info": {
   "codemirror_mode": {
    "name": "ipython",
    "version": 3
   },
   "file_extension": ".py",
   "mimetype": "text/x-python",
   "name": "python",
   "nbconvert_exporter": "python",
   "pygments_lexer": "ipython3",
   "version": "3.11.3"
  }
 },
 "nbformat": 4,
 "nbformat_minor": 5
}
