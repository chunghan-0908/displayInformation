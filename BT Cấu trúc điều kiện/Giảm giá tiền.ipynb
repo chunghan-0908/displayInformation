{
 "cells": [
  {
   "cell_type": "markdown",
   "id": "16bce090",
   "metadata": {},
   "source": [
    "Viết chương trình hỏi người dùng đã chi bao nhiêu tiền tại cửa hàng.\n",
    "\n",
    "Nếu họ chi ít hơn 75$, họ sẽ không được giảm giá.\n",
    "\n",
    "Nếu họ chi 75$ trở lên, họ sẽ được giảm giá 15$.\n",
    "\n",
    "Nếu người dùng chi từ 100$ trở lên, họ sẽ được giảm giá 25$.\n",
    "\n",
    "Nếu người dùng chi từ 150$ trở lên, họ sẽ được giảm giá 50$.\n",
    "Sau đó in ra tổng số tiền mà người dùng phải thanh toán."
   ]
  },
  {
   "cell_type": "code",
   "execution_count": 4,
   "id": "1fa1e486",
   "metadata": {},
   "outputs": [
    {
     "name": "stdout",
     "output_type": "stream",
     "text": [
      "Bạn đã chi bao nhiêu tiền tại cửa hàng: 125\n",
      "Bạn được giảm giá 25$\n",
      "Số tiền cần thành toán:  100\n"
     ]
    }
   ],
   "source": [
    "money = input(\"Bạn đã chi bao nhiêu tiền tại cửa hàng: \")\n",
    "money = int(money)\n",
    "\n",
    "if money >= 150:\n",
    "    print(\"Bạn được giảm giá 50$\")\n",
    "    print(\"Số tiền cần thành toán: \", money - 50)\n",
    "elif money >= 100:\n",
    "    print(\"Bạn được giảm giá 25$\")\n",
    "    print(\"Số tiền cần thành toán: \", money - 25)\n",
    "elif money >= 75:\n",
    "    print(\"Bạn được giảm giá 15$\")\n",
    "    print(\"Số tiền cần thành toán: \", money - 15)\n",
    "else:\n",
    "    print(\"Số tiền cần thành toán: \", money)\n",
    "    "
   ]
  },
  {
   "cell_type": "code",
   "execution_count": null,
   "id": "616d5aa2",
   "metadata": {},
   "outputs": [],
   "source": []
  }
 ],
 "metadata": {
  "kernelspec": {
   "display_name": "Python 3 (ipykernel)",
   "language": "python",
   "name": "python3"
  },
  "language_info": {
   "codemirror_mode": {
    "name": "ipython",
    "version": 3
   },
   "file_extension": ".py",
   "mimetype": "text/x-python",
   "name": "python",
   "nbconvert_exporter": "python",
   "pygments_lexer": "ipython3",
   "version": "3.11.3"
  }
 },
 "nbformat": 4,
 "nbformat_minor": 5
}
