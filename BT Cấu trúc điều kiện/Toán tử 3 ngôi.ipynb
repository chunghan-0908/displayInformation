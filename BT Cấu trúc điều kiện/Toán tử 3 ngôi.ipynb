{
 "cells": [
  {
   "cell_type": "markdown",
   "id": "b444b763",
   "metadata": {},
   "source": [
    "#Kiểm tra số nhập vào là số chẳn hoặc lẻ, sử dụng toán tử điều kiện ba ngôi"
   ]
  },
  {
   "cell_type": "code",
   "execution_count": 4,
   "id": "b6a84b94",
   "metadata": {},
   "outputs": [
    {
     "name": "stdout",
     "output_type": "stream",
     "text": [
      "Nhập vào 1 số nguyên bất kì: 3\n",
      "Là số lẻ \n"
     ]
    }
   ],
   "source": [
    "n = int(input(\"Nhập vào 1 số nguyên bất kì: \"))\n",
    "ktra = \"Là số lẻ \" if n % 2 != 0 else \"Là số chẳn\"\n",
    "print(ktra)"
   ]
  }
 ],
 "metadata": {
  "kernelspec": {
   "display_name": "Python 3 (ipykernel)",
   "language": "python",
   "name": "python3"
  },
  "language_info": {
   "codemirror_mode": {
    "name": "ipython",
    "version": 3
   },
   "file_extension": ".py",
   "mimetype": "text/x-python",
   "name": "python",
   "nbconvert_exporter": "python",
   "pygments_lexer": "ipython3",
   "version": "3.11.3"
  }
 },
 "nbformat": 4,
 "nbformat_minor": 5
}
