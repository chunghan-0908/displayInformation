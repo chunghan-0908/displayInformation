{
 "cells": [
  {
   "cell_type": "markdown",
   "id": "c1ceb4d9",
   "metadata": {},
   "source": [
    "#Xây dựngg chương trình in thông tin cá nhân của người học gồm. Họ và tên, ngày sinh, địa chỉ, mục đích đến với khoá học Python."
   ]
  },
  {
   "cell_type": "code",
   "execution_count": 2,
   "id": "c2c8194e",
   "metadata": {},
   "outputs": [
    {
     "name": "stdout",
     "output_type": "stream",
     "text": [
      "Ngoc Han\n",
      "9/10/2002\n",
      "Tp HCM\n",
      "Hoc tiep khoa hoc DA\n"
     ]
    }
   ],
   "source": [
    "hoten = \"Ngoc Han\"\n",
    "ngaysinh = \"9/10/2002\"\n",
    "diachi = \"Tp HCM\"\n",
    "mucdich = \"Hoc tiep khoa hoc DA\"\n",
    "print(hoten)\n",
    "print(ngaysinh)\n",
    "print(diachi)\n",
    "print(mucdich)"
   ]
  },
  {
   "cell_type": "code",
   "execution_count": null,
   "id": "d901a414",
   "metadata": {},
   "outputs": [],
   "source": []
  }
 ],
 "metadata": {
  "kernelspec": {
   "display_name": "Python 3 (ipykernel)",
   "language": "python",
   "name": "python3"
  },
  "language_info": {
   "codemirror_mode": {
    "name": "ipython",
    "version": 3
   },
   "file_extension": ".py",
   "mimetype": "text/x-python",
   "name": "python",
   "nbconvert_exporter": "python",
   "pygments_lexer": "ipython3",
   "version": "3.11.3"
  }
 },
 "nbformat": 4,
 "nbformat_minor": 5
}
