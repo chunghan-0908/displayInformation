{
 "cells": [
  {
   "cell_type": "code",
   "execution_count": 17,
   "id": "14431002",
   "metadata": {},
   "outputs": [
    {
     "name": "stdout",
     "output_type": "stream",
     "text": [
      "Giá trị nhỏ nhất trong mảng là: 1\n"
     ]
    }
   ],
   "source": [
    "def tim_gia_tri_nho_nhat(mang):\n",
    "    gia_tri_nho_nhat = float('inf') \n",
    "    for so in mang:\n",
    "        if so < gia_tri_nho_nhat:\n",
    "            gia_tri_nho_nhat = so\n",
    "\n",
    "    return gia_tri_nho_nhat\n",
    "\n",
    "mang_so = [5, 3, 1, 9, 2]\n",
    "gia_tri = tim_gia_tri_nho_nhat(mang_so)\n",
    "print(\"Giá trị nhỏ nhất trong mảng là:\", gia_tri)"
   ]
  }
 ],
 "metadata": {
  "kernelspec": {
   "display_name": "Python 3 (ipykernel)",
   "language": "python",
   "name": "python3"
  },
  "language_info": {
   "codemirror_mode": {
    "name": "ipython",
    "version": 3
   },
   "file_extension": ".py",
   "mimetype": "text/x-python",
   "name": "python",
   "nbconvert_exporter": "python",
   "pygments_lexer": "ipython3",
   "version": "3.11.3"
  }
 },
 "nbformat": 4,
 "nbformat_minor": 5
}
