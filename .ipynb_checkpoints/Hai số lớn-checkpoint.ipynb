{
 "cells": [
  {
   "cell_type": "markdown",
   "id": "bfad1f64",
   "metadata": {},
   "source": [
    "Khởi  tạo một list chứa các số cho trước. Tìm hai số lớn nhất của list vừa tạo được"
   ]
  },
  {
   "cell_type": "code",
   "execution_count": 7,
   "id": "70df58d3",
   "metadata": {},
   "outputs": [
    {
     "name": "stdout",
     "output_type": "stream",
     "text": [
      "List ban đầu:  [0, 1, 3, 5, -4, 7]\n",
      "List sau khi sắp xếp tăng dần:  [-4, 0, 1, 3, 5, 7]\n",
      "Hai số lớn nhất lần lượt là:  7 và 5\n"
     ]
    }
   ],
   "source": [
    "list_nums = [0,1,3,5,-4,7]\n",
    "print(\"List ban đầu: \", list_nums)\n",
    "\n",
    "list_nums.sort()\n",
    "print(\"List sau khi sắp xếp tăng dần: \", list_nums)\n",
    "print(\"Hai số lớn nhất lần lượt là: \", list_nums[-1] ,\"và\", list_nums[-2])"
   ]
  }
 ],
 "metadata": {
  "kernelspec": {
   "display_name": "Python 3 (ipykernel)",
   "language": "python",
   "name": "python3"
  },
  "language_info": {
   "codemirror_mode": {
    "name": "ipython",
    "version": 3
   },
   "file_extension": ".py",
   "mimetype": "text/x-python",
   "name": "python",
   "nbconvert_exporter": "python",
   "pygments_lexer": "ipython3",
   "version": "3.11.3"
  }
 },
 "nbformat": 4,
 "nbformat_minor": 5
}
