{
 "cells": [
  {
   "cell_type": "markdown",
   "id": "cbb7f962",
   "metadata": {},
   "source": [
    "#Viết chương trình nhập một giá trị là độ 0C (Celsius) và chuyển nó sang độ 0F (Fahrenheit)."
   ]
  },
  {
   "cell_type": "code",
   "execution_count": 1,
   "id": "4ce1bc05",
   "metadata": {},
   "outputs": [
    {
     "name": "stdout",
     "output_type": "stream",
     "text": [
      "Nhập một giá trị độ C bất kì: 4\n",
      "39.2 F\n"
     ]
    }
   ],
   "source": [
    "celsius = float(input(\"Nhập một giá trị độ C bất kì: \"))\n",
    "F = (celsius * 1.8) + 32\n",
    "print(F,\"F\")"
   ]
  }
 ],
 "metadata": {
  "kernelspec": {
   "display_name": "Python 3 (ipykernel)",
   "language": "python",
   "name": "python3"
  },
  "language_info": {
   "codemirror_mode": {
    "name": "ipython",
    "version": 3
   },
   "file_extension": ".py",
   "mimetype": "text/x-python",
   "name": "python",
   "nbconvert_exporter": "python",
   "pygments_lexer": "ipython3",
   "version": "3.11.3"
  }
 },
 "nbformat": 4,
 "nbformat_minor": 5
}
