{
 "cells": [
  {
   "cell_type": "markdown",
   "id": "7a6d281f",
   "metadata": {},
   "source": [
    "Viết chương trình cho phép người dùng thêm hoặc xoá các mục chi tiêu cá nhân và in ra các mục chi tiêu đó. Mục chi tiêu bao gồm: tên, giá trị chi và ngày chi"
   ]
  },
  {
   "cell_type": "code",
   "execution_count": 2,
   "id": "375cb1b5",
   "metadata": {},
   "outputs": [
    {
     "name": "stdout",
     "output_type": "stream",
     "text": [
      "What do you want to do? -\n",
      "1. Add\n",
      "2. Remove\n",
      "What do you want to do?1\n",
      "Item cost: 300\n",
      "Date: 2/7/2023\n"
     ]
    },
    {
     "ename": "NameError",
     "evalue": "name 'name_input' is not defined",
     "output_type": "error",
     "traceback": [
      "\u001b[1;31m---------------------------------------------------------------------------\u001b[0m",
      "\u001b[1;31mNameError\u001b[0m                                 Traceback (most recent call last)",
      "Cell \u001b[1;32mIn[2], line 26\u001b[0m\n\u001b[0;32m     24\u001b[0m cost_input \u001b[38;5;241m=\u001b[39m \u001b[38;5;28mint\u001b[39m(\u001b[38;5;28minput\u001b[39m(\u001b[38;5;124m\"\u001b[39m\u001b[38;5;124mItem cost: \u001b[39m\u001b[38;5;124m\"\u001b[39m))\n\u001b[0;32m     25\u001b[0m date_input \u001b[38;5;241m=\u001b[39m \u001b[38;5;28minput\u001b[39m(\u001b[38;5;124m\"\u001b[39m\u001b[38;5;124mDate: \u001b[39m\u001b[38;5;124m\"\u001b[39m)\n\u001b[1;32m---> 26\u001b[0m item \u001b[38;5;241m=\u001b[39m {\u001b[38;5;124m'\u001b[39m\u001b[38;5;124mname\u001b[39m\u001b[38;5;124m'\u001b[39m: \u001b[43mname_input\u001b[49m, \u001b[38;5;124m'\u001b[39m\u001b[38;5;124mcost\u001b[39m\u001b[38;5;124m'\u001b[39m:cost_input, \u001b[38;5;124m'\u001b[39m\u001b[38;5;124mdate\u001b[39m\u001b[38;5;124m'\u001b[39m:date_input}\n\u001b[0;32m     27\u001b[0m add_item(expenses, item)\n\u001b[0;32m     28\u001b[0m \u001b[38;5;28mprint\u001b[39m(\u001b[38;5;124m\"\u001b[39m\u001b[38;5;124mYour expenses: \u001b[39m\u001b[38;5;124m\"\u001b[39m, expenses)\n",
      "\u001b[1;31mNameError\u001b[0m: name 'name_input' is not defined"
     ]
    }
   ],
   "source": [
    "def add_item(myTempList, item):    \n",
    "    myTempList.append(item)\n",
    "    \n",
    "def find_index_item(myTempList, item_name):\n",
    "    result = -1\n",
    "    length = len(myTempList)\n",
    "    for i in range(length):\n",
    "        if myTempList[i]['name'] == item_name:\n",
    "            result = i\n",
    "    return result\n",
    "\n",
    "def remove_item(myTempList, item_name):\n",
    "    if find_index_item(myTempList, item_name) > -1:\n",
    "        del myTempList[find_index_item(myTempList, item_name)]\n",
    "    else:\n",
    "        print(item_name + \" not in list\")\n",
    "        \n",
    "print(\"What do you want to do? -\\n\"\\\n",
    "        \"1. Add\\n\" \\\n",
    "        \"2. Remove\")\n",
    "\n",
    "option = int(input(\"What do you want to do?\"))\n",
    "if option == 1:\n",
    "    cost_input = int(input(\"Item cost: \"))\n",
    "    date_input = input(\"Date: \")\n",
    "    item = {'name': name_input, 'cost':cost_input, 'date':date_input}\n",
    "    add_item(expenses, item)\n",
    "    print(\"Your expenses: \", expenses)\n",
    "elif option == 2:\n",
    "    remove_item(expenses, name_input)\n",
    "    print(\"Your expenses: \", expenses)\n",
    "else:\n",
    "    print(\"Invalid input\")"
   ]
  }
 ],
 "metadata": {
  "kernelspec": {
   "display_name": "Python 3 (ipykernel)",
   "language": "python",
   "name": "python3"
  },
  "language_info": {
   "codemirror_mode": {
    "name": "ipython",
    "version": 3
   },
   "file_extension": ".py",
   "mimetype": "text/x-python",
   "name": "python",
   "nbconvert_exporter": "python",
   "pygments_lexer": "ipython3",
   "version": "3.11.3"
  }
 },
 "nbformat": 4,
 "nbformat_minor": 5
}
