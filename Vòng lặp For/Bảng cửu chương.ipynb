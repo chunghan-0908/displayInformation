{
 "cells": [
  {
   "cell_type": "markdown",
   "id": "f41588ea",
   "metadata": {},
   "source": [
    "Viết chương trình hiển thị tất cả các bảng cửu chương từ 1 đến 9."
   ]
  },
  {
   "cell_type": "code",
   "execution_count": 9,
   "id": "92439bc7",
   "metadata": {},
   "outputs": [
    {
     "name": "stdout",
     "output_type": "stream",
     "text": [
      "Nhập vào một số nguyên dương (1-9)6\n",
      "6 x 1 =  6\n",
      "6 x 2 =  12\n",
      "6 x 3 =  18\n",
      "6 x 4 =  24\n",
      "6 x 5 =  30\n",
      "6 x 6 =  36\n",
      "6 x 7 =  42\n",
      "6 x 8 =  48\n",
      "6 x 9 =  54\n"
     ]
    }
   ],
   "source": [
    "number = int(input(\"Nhập vào một số nguyên dương (1-9)\"))\n",
    "for i in range(1,10):\n",
    "    #Hoặc print(str(number) + ' x ' + str(i) + ' = ' + str(number*i))\n",
    "    print(f\"{number} x {i} = \", number*i)"
   ]
  }
 ],
 "metadata": {
  "kernelspec": {
   "display_name": "Python 3 (ipykernel)",
   "language": "python",
   "name": "python3"
  },
  "language_info": {
   "codemirror_mode": {
    "name": "ipython",
    "version": 3
   },
   "file_extension": ".py",
   "mimetype": "text/x-python",
   "name": "python",
   "nbconvert_exporter": "python",
   "pygments_lexer": "ipython3",
   "version": "3.11.3"
  }
 },
 "nbformat": 4,
 "nbformat_minor": 5
}
