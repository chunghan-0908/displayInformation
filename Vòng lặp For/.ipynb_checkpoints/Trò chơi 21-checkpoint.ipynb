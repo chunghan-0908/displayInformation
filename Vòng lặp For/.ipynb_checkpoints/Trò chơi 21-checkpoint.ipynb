{
 "cells": [
  {
   "cell_type": "markdown",
   "id": "d0b418b6",
   "metadata": {},
   "source": [
    "Trò chơi 21 là trò chơi số đếm được bắt đầu từ 0, hai người chơi lần lượt có thể thêm 1, 2 hoặc 3, vào tổng số. Tổng số không được vượt quá 21 và người chơi đếm tới 21 sẽ thua. Ở bài tập này, chúng ta sẽ giả định cho máy làm người chơi thứ 2."
   ]
  },
  {
   "cell_type": "code",
   "execution_count": 1,
   "id": "ad88307b",
   "metadata": {},
   "outputs": [
    {
     "name": "stdout",
     "output_type": "stream",
     "text": [
      "Tổng số hiện tại: 0\n",
      "Người chơi thứ nhất, hãy chọn số lượng (1-3) để thêm vào tổng số: 1\n",
      "Tổng số hiện tại: 1\n",
      "Máy chọn số lượng 3 để thêm vào tổng số.\n",
      "Tổng số hiện tại: 4\n",
      "Người chơi thứ nhất, hãy chọn số lượng (1-3) để thêm vào tổng số: 3\n",
      "Tổng số hiện tại: 7\n",
      "Máy chọn số lượng 3 để thêm vào tổng số.\n",
      "Tổng số hiện tại: 10\n",
      "Người chơi thứ nhất, hãy chọn số lượng (1-3) để thêm vào tổng số: 4\n",
      "Lựa chọn không hợp lệ. Vui lòng chọn số từ 1 đến 3\n",
      "Người chơi thứ nhất, hãy chọn số lượng (1-3) để thêm vào tổng số: 2\n",
      "Tổng số hiện tại: 12\n",
      "Máy chọn số lượng 3 để thêm vào tổng số.\n",
      "Tổng số hiện tại: 15\n",
      "Người chơi thứ nhất, hãy chọn số lượng (1-3) để thêm vào tổng số: 3\n",
      "Tổng số hiện tại: 18\n",
      "Máy chọn số lượng 3 để thêm vào tổng số.\n",
      "Tổng số hiện tại: 21\n",
      "Người chơi 1 thua cuộc!\n"
     ]
    }
   ],
   "source": [
    "total = 0  # Tổng số hiện tại\n",
    "max_add = 3  # Số lượng tối đa có thể thêm vào\n",
    "player = 1  # Người chơi hiện tại (1: người chơi thứ nhất, 2: máy)\n",
    "\n",
    "while total < 21:\n",
    "    print(\"Tổng số hiện tại:\", total)\n",
    "\n",
    "    if player == 1:\n",
    "        valid_input = False\n",
    "\n",
    "        while not valid_input:\n",
    "            add = int(input(\"Người chơi thứ nhất, hãy chọn số lượng (1-3) để thêm vào tổng số: \"))\n",
    "            if 1 <= add <= max_add and add <= 21 - total:\n",
    "                total += add\n",
    "                valid_input = True\n",
    "            else:\n",
    "                print(\"Lựa chọn không hợp lệ. Vui lòng chọn số từ 1 đến\", min(max_add, 21 - total))\n",
    "\n",
    "        player = 2\n",
    "    else:\n",
    "        # Máy tính làm người chơi thứ hai\n",
    "        add = min(max_add, 21 - total)\n",
    "        total += add\n",
    "        print(\"Máy chọn số lượng\", add, \"để thêm vào tổng số.\")\n",
    "        player = 1\n",
    "\n",
    "print(\"Tổng số hiện tại:\", total)\n",
    "print(\"Người chơi\", player, \"thua cuộc!\")"
   ]
  }
 ],
 "metadata": {
  "kernelspec": {
   "display_name": "Python 3 (ipykernel)",
   "language": "python",
   "name": "python3"
  },
  "language_info": {
   "codemirror_mode": {
    "name": "ipython",
    "version": 3
   },
   "file_extension": ".py",
   "mimetype": "text/x-python",
   "name": "python",
   "nbconvert_exporter": "python",
   "pygments_lexer": "ipython3",
   "version": "3.11.3"
  }
 },
 "nbformat": 4,
 "nbformat_minor": 5
}
