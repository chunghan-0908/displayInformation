{
 "cells": [
  {
   "cell_type": "markdown",
   "id": "a708a477",
   "metadata": {},
   "source": [
    "#Ứng dụng chuyển đổi tiền tệ cho phép tính giá trị tiền tệ giữa các đồng tiền khác nhau dựa vào một tỉ giá cho trước."
   ]
  },
  {
   "cell_type": "code",
   "execution_count": 1,
   "id": "007e9315",
   "metadata": {},
   "outputs": [
    {
     "name": "stdout",
     "output_type": "stream",
     "text": [
      "Nhập số tiền USD cần đổi: 100\n",
      "Nhập tỉ giá USD/VND: 23\n",
      "2300.0\n"
     ]
    }
   ],
   "source": [
    "giatri = float(input(\"Nhập số tiền USD cần đổi: \"))\n",
    "tigia = float(input(\"Nhập tỉ giá USD/VND: \"))\n",
    "sotien = giatri *  tigia\n",
    "print(sotien)"
   ]
  }
 ],
 "metadata": {
  "kernelspec": {
   "display_name": "Python 3 (ipykernel)",
   "language": "python",
   "name": "python3"
  },
  "language_info": {
   "codemirror_mode": {
    "name": "ipython",
    "version": 3
   },
   "file_extension": ".py",
   "mimetype": "text/x-python",
   "name": "python",
   "nbconvert_exporter": "python",
   "pygments_lexer": "ipython3",
   "version": "3.11.3"
  }
 },
 "nbformat": 4,
 "nbformat_minor": 5
}
