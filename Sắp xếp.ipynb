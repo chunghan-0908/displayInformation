{
 "cells": [
  {
   "cell_type": "markdown",
   "id": "e60f2e47",
   "metadata": {},
   "source": [
    "Viết chương trình cho người dùng nhập vào 3 số nguyên bất kỳ, sau đó sẽ in ra thứ tự tăng dần của 3 số nguyên được nhập vào.\n"
   ]
  },
  {
   "cell_type": "code",
   "execution_count": 5,
   "id": "362cf6ab",
   "metadata": {},
   "outputs": [
    {
     "name": "stdout",
     "output_type": "stream",
     "text": [
      "Num 1:4\n",
      "Num 2:3\n",
      "Num 3:5\n",
      "Original numbers:  4 3 5\n",
      "Sorted numbers:  3 4 5\n"
     ]
    }
   ],
   "source": [
    "def sort_numbers(num1, num2, num3):\n",
    "    \n",
    "    temp = 0\n",
    "    if num2 < num1 and num2 < num3:\n",
    "        temp = num1\n",
    "        num1 = num2\n",
    "        num2 = temp\n",
    "    elif num3 < num1 and num3 < num2:\n",
    "        temp = num1\n",
    "        num1 = num3\n",
    "        num3 = temp\n",
    "    if num3 < num2:\n",
    "        temp = num2\n",
    "        num2 = num3\n",
    "        num3 = temp\n",
    "        \n",
    "    return (num1, num2, num3)\n",
    "\n",
    "num1 = int(input(\"Num 1:\"))\n",
    "num2 = int(input(\"Num 2:\"))\n",
    "num3 = int(input(\"Num 3:\"))\n",
    "    \n",
    "a, b, c = sort_numbers(num1, num2, num3)\n",
    "print(\"Original numbers: \", num1, num2, num3)\n",
    "print(\"Sorted numbers: \", a, b, c)"
   ]
  },
  {
   "cell_type": "code",
   "execution_count": null,
   "id": "e7032162",
   "metadata": {},
   "outputs": [],
   "source": []
  }
 ],
 "metadata": {
  "kernelspec": {
   "display_name": "Python 3 (ipykernel)",
   "language": "python",
   "name": "python3"
  },
  "language_info": {
   "codemirror_mode": {
    "name": "ipython",
    "version": 3
   },
   "file_extension": ".py",
   "mimetype": "text/x-python",
   "name": "python",
   "nbconvert_exporter": "python",
   "pygments_lexer": "ipython3",
   "version": "3.11.3"
  }
 },
 "nbformat": 4,
 "nbformat_minor": 5
}
