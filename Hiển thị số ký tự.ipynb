{
 "cells": [
  {
   "cell_type": "markdown",
   "id": "0c2311c0",
   "metadata": {},
   "source": [
    "Viết chương trình cho phép người dùng nhập chuỗi và và hiển thị số ký tự trong chuỗi vừa nhập vào.m"
   ]
  },
  {
   "cell_type": "code",
   "execution_count": 2,
   "id": "774fbb13",
   "metadata": {},
   "outputs": [
    {
     "name": "stdout",
     "output_type": "stream",
     "text": [
      "Your string: hannnn\n",
      "Length:  6\n"
     ]
    }
   ],
   "source": [
    "def count_chars(txt):\n",
    "    result = 0\n",
    "    for char in txt:\n",
    "        result += 1\n",
    "    return result\n",
    "input_str = input('Your string: ')\n",
    "print('Length: ', count_chars(input_str))\n"
   ]
  },
  {
   "cell_type": "code",
   "execution_count": null,
   "id": "38a28e0a",
   "metadata": {},
   "outputs": [],
   "source": []
  }
 ],
 "metadata": {
  "kernelspec": {
   "display_name": "Python 3 (ipykernel)",
   "language": "python",
   "name": "python3"
  },
  "language_info": {
   "codemirror_mode": {
    "name": "ipython",
    "version": 3
   },
   "file_extension": ".py",
   "mimetype": "text/x-python",
   "name": "python",
   "nbconvert_exporter": "python",
   "pygments_lexer": "ipython3",
   "version": "3.11.3"
  }
 },
 "nbformat": 4,
 "nbformat_minor": 5
}
