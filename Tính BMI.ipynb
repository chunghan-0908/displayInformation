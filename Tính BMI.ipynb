{
 "cells": [
  {
   "cell_type": "markdown",
   "id": "eb739cb2",
   "metadata": {},
   "source": [
    "Viết chương trình cho người dùng nhập cân nặng và chiều cao của mình. Sau đó hãy in ra chỉ số BMI (Body mass index), và tình trạng cơ thể của họ dựa theo công thức và bảng giá trị sau:\n",
    "\n",
    "BMI = cân nặng / (chiều cao ^ 2)\n",
    "\n",
    "Trong đó cân nặng tính bằng kg và chiều cao tính bằng m\n",
    "\n",
    "Chỉ số BMI đối với người trên 20 tuổi được phân loại và diễn giải theo bảng sau:\n",
    "\n",
    "BMI < 16: Gầy cấp độ III\n",
    "16 <= BMI < 17:  Gầy cấp độ II\n",
    "17<= BMI < 18.5: Gầy cấp độ I\n",
    "18.5 <= BMI < 25: Bình thường\n",
    "25 <= BMI < 30: Thừa cân\n",
    "30 <= BMI < 35 : Béo phì cấp độ I\n",
    "35 <= BMI < 40: Béo phì cấp độ II\n",
    "BMI > 40: Béo phì cấp độ III"
   ]
  },
  {
   "cell_type": "code",
   "execution_count": 7,
   "id": "3bb53416",
   "metadata": {},
   "outputs": [
    {
     "name": "stdout",
     "output_type": "stream",
     "text": [
      "Nhập vào cân nặng:  4\n",
      "Nhập vào chiều cao: 5\n",
      "BMI của bạn là:  0.16\n",
      "Gầy cấp độ III\n"
     ]
    }
   ],
   "source": [
    "weight = float(input(\"Nhập vào cân nặng:  \"))\n",
    "height = float(input(\"Nhập vào chiều cao: \"))\n",
    "\n",
    "BMI = weight / (height**2)\n",
    "print(\"BMI của bạn là: \", BMI)\n",
    "\n",
    "if BMI < 16: print(\"Gầy cấp độ III\")\n",
    "elif 16 <= BMI < 17: print(\"Gầy cấp độ II\")\n",
    "elif 17 <= BMI < 18.5: print(\"Gầy cấp độ II\")\n",
    "elif 18.5 <= BMI < 25: print(\"Gầy cấp độ II\")\n",
    "elif 25 <= BMI < 30: print(\"Gầy cấp độ II\")\n",
    "elif 30 <= BMI < 35: print(\"Gầy cấp độ II\")\n",
    "elif 35 <= BMI < 40: print(\"Gầy cấp độ II\")\n",
    "else: print(\"Béo phì cấp độ III\")"
   ]
  }
 ],
 "metadata": {
  "kernelspec": {
   "display_name": "Python 3 (ipykernel)",
   "language": "python",
   "name": "python3"
  },
  "language_info": {
   "codemirror_mode": {
    "name": "ipython",
    "version": 3
   },
   "file_extension": ".py",
   "mimetype": "text/x-python",
   "name": "python",
   "nbconvert_exporter": "python",
   "pygments_lexer": "ipython3",
   "version": "3.11.3"
  }
 },
 "nbformat": 4,
 "nbformat_minor": 5
}
